{
 "cells": [
  {
   "cell_type": "markdown",
   "id": "69b0c81d",
   "metadata": {},
   "source": [
    "# Setup Environement"
   ]
  },
  {
   "cell_type": "markdown",
   "id": "d85cdac5",
   "metadata": {},
   "source": [
    "Installing required packages..."
   ]
  },
  {
   "cell_type": "code",
   "execution_count": null,
   "id": "bc6d2f97",
   "metadata": {},
   "outputs": [
    {
     "name": "stdout",
     "output_type": "stream",
     "text": [
      "Collecting pandas\n",
      "  Downloading pandas-1.2.4-cp38-cp38-macosx_10_9_x86_64.whl (10.5 MB)\n",
      "\u001b[K     |████████████████████████████████| 10.5 MB 5.6 MB/s eta 0:00:01\n",
      "\u001b[?25hCollecting numpy\n",
      "  Downloading numpy-1.20.2-cp38-cp38-macosx_10_9_x86_64.whl (16.0 MB)\n",
      "\u001b[K     |████████████████████████████████| 16.0 MB 35.6 MB/s eta 0:00:01\n",
      "\u001b[?25hCollecting matplotlib\n",
      "  Downloading matplotlib-3.4.1-cp38-cp38-macosx_10_9_x86_64.whl (7.2 MB)\n",
      "\u001b[K     |████████████████████████████████| 7.2 MB 45.3 MB/s eta 0:00:01\n",
      "\u001b[?25hCollecting seaborn\n",
      "  Using cached seaborn-0.11.1-py3-none-any.whl (285 kB)\n",
      "Collecting fbprophet\n",
      "  Downloading fbprophet-0.7.1.tar.gz (64 kB)\n",
      "\u001b[K     |████████████████████████████████| 64 kB 8.7 MB/s  eta 0:00:01\n",
      "\u001b[?25hCollecting Cython>=0.22\n",
      "  Downloading Cython-0.29.23-cp38-cp38-macosx_10_9_x86_64.whl (1.9 MB)\n",
      "\u001b[K     |████████████████████████████████| 1.9 MB 42.2 MB/s eta 0:00:01\n",
      "\u001b[?25hCollecting cmdstanpy==0.9.5\n",
      "  Downloading cmdstanpy-0.9.5-py3-none-any.whl (37 kB)\n",
      "Collecting pystan>=2.14\n",
      "  Downloading pystan-3.0.2-py3-none-any.whl (13 kB)\n",
      "Collecting LunarCalendar>=0.0.9\n",
      "  Downloading LunarCalendar-0.0.9-py2.py3-none-any.whl (18 kB)\n",
      "Collecting convertdate>=2.1.2\n",
      "  Downloading convertdate-2.3.2-py3-none-any.whl (47 kB)\n",
      "\u001b[K     |████████████████████████████████| 47 kB 15.8 MB/s eta 0:00:01\n",
      "\u001b[?25hCollecting holidays>=0.10.2\n",
      "  Downloading holidays-0.11.1-py3-none-any.whl (133 kB)\n",
      "\u001b[K     |████████████████████████████████| 133 kB 73.9 MB/s eta 0:00:01\n",
      "\u001b[?25hCollecting setuptools-git>=1.2\n",
      "  Downloading setuptools_git-1.2-py2.py3-none-any.whl (10 kB)\n",
      "Requirement already satisfied: python-dateutil>=2.8.0 in /Users/yannhallouard/PycharmProjects/MAKER_DISPLAY_REPOSITORY/venv/lib/python3.8/site-packages (from fbprophet) (2.8.1)\n",
      "Collecting tqdm>=4.36.1\n",
      "  Downloading tqdm-4.60.0-py2.py3-none-any.whl (75 kB)\n",
      "\u001b[K     |████████████████████████████████| 75 kB 13.8 MB/s eta 0:00:01\n",
      "\u001b[?25hCollecting pillow>=6.2.0\n",
      "  Downloading Pillow-8.2.0-cp38-cp38-macosx_10_10_x86_64.whl (2.8 MB)\n",
      "\u001b[K     |████████████████████████████████| 2.8 MB 46.1 MB/s eta 0:00:01\n",
      "\u001b[?25hCollecting cycler>=0.10\n",
      "  Using cached cycler-0.10.0-py2.py3-none-any.whl (6.5 kB)\n",
      "Requirement already satisfied: pyparsing>=2.2.1 in /Users/yannhallouard/PycharmProjects/MAKER_DISPLAY_REPOSITORY/venv/lib/python3.8/site-packages (from matplotlib) (2.4.7)\n",
      "Collecting kiwisolver>=1.0.1\n",
      "  Using cached kiwisolver-1.3.1-cp38-cp38-macosx_10_9_x86_64.whl (61 kB)\n",
      "Collecting pytz>=2017.3\n",
      "  Using cached pytz-2021.1-py2.py3-none-any.whl (510 kB)\n",
      "Collecting pymeeus<=1,>=0.3.13\n",
      "  Downloading PyMeeus-0.5.11.tar.gz (5.4 MB)\n",
      "\u001b[K     |████████████████████████████████| 5.4 MB 55.0 MB/s eta 0:00:01\n",
      "\u001b[?25hRequirement already satisfied: six in /Users/yannhallouard/PycharmProjects/MAKER_DISPLAY_REPOSITORY/venv/lib/python3.8/site-packages (from cycler>=0.10->matplotlib) (1.15.0)\n",
      "Collecting hijri-converter\n",
      "  Downloading hijri_converter-2.1.1-py3-none-any.whl (14 kB)\n",
      "Collecting korean-lunar-calendar\n",
      "  Downloading korean_lunar_calendar-0.2.1-py3-none-any.whl (8.0 kB)\n",
      "Collecting ephem>=3.7.5.3\n",
      "  Downloading ephem-3.7.7.1-cp38-cp38-macosx_10_9_x86_64.whl (823 kB)\n",
      "\u001b[K     |████████████████████████████████| 823 kB 58.0 MB/s eta 0:00:01\n",
      "\u001b[?25hCollecting httpstan<4.5,>=4.4\n",
      "  Downloading httpstan-4.4.2-cp38-cp38-macosx_10_15_x86_64.whl (34.8 MB)\n",
      "\u001b[K     |████████████████████████████████| 34.8 MB 21.4 MB/s eta 0:00:01\n",
      "\u001b[?25hCollecting aiohttp<4.0,>=3.6\n",
      "  Using cached aiohttp-3.7.4.post0-cp38-cp38-macosx_10_14_x86_64.whl (648 kB)\n",
      "Collecting pysimdjson<4.0,>=3.2\n",
      "  Downloading pysimdjson-3.2.0-cp38-cp38-macosx_10_14_x86_64.whl (196 kB)\n",
      "\u001b[K     |████████████████████████████████| 196 kB 74.7 MB/s eta 0:00:01\n",
      "\u001b[?25hCollecting clikit<0.7,>=0.6\n",
      "  Downloading clikit-0.6.2-py2.py3-none-any.whl (91 kB)\n",
      "\u001b[K     |████████████████████████████████| 91 kB 22.4 MB/s eta 0:00:01\n",
      "\u001b[?25hCollecting async-timeout<4.0,>=3.0\n",
      "  Using cached async_timeout-3.0.1-py3-none-any.whl (8.2 kB)\n",
      "Requirement already satisfied: attrs>=17.3.0 in /Users/yannhallouard/PycharmProjects/MAKER_DISPLAY_REPOSITORY/venv/lib/python3.8/site-packages (from aiohttp<4.0,>=3.6->pystan>=2.14->fbprophet) (20.3.0)\n",
      "Collecting typing-extensions>=3.6.5\n",
      "  Using cached typing_extensions-3.7.4.3-py3-none-any.whl (22 kB)\n",
      "Collecting multidict<7.0,>=4.5\n",
      "  Using cached multidict-5.1.0-cp38-cp38-macosx_10_14_x86_64.whl (49 kB)\n",
      "Collecting yarl<2.0,>=1.0\n",
      "  Using cached yarl-1.6.3-cp38-cp38-macosx_10_14_x86_64.whl (124 kB)\n",
      "Collecting chardet<5.0,>=2.0\n",
      "  Using cached chardet-4.0.0-py2.py3-none-any.whl (178 kB)\n",
      "Collecting pastel<0.3.0,>=0.2.0\n",
      "  Downloading pastel-0.2.1-py2.py3-none-any.whl (6.0 kB)\n",
      "Collecting pylev<2.0,>=1.3\n",
      "  Downloading pylev-1.3.0-py2.py3-none-any.whl (4.9 kB)\n",
      "Collecting crashtest<0.4.0,>=0.3.0\n",
      "  Downloading crashtest-0.3.1-py3-none-any.whl (7.0 kB)\n",
      "Requirement already satisfied: setuptools>=41.0 in /Users/yannhallouard/PycharmProjects/MAKER_DISPLAY_REPOSITORY/venv/lib/python3.8/site-packages (from httpstan<4.5,>=4.4->pystan>=2.14->fbprophet) (56.0.0)\n",
      "Collecting lz4<4.0,>=3.1\n",
      "  Downloading lz4-3.1.3-cp38-cp38-macosx_10_9_x86_64.whl (261 kB)\n",
      "\u001b[K     |████████████████████████████████| 261 kB 47.3 MB/s eta 0:00:01\n",
      "\u001b[?25hCollecting marshmallow<4.0,>=3.10\n",
      "  Downloading marshmallow-3.11.1-py2.py3-none-any.whl (46 kB)\n",
      "\u001b[K     |████████████████████████████████| 46 kB 8.1 MB/s  eta 0:00:01\n",
      "\u001b[?25hCollecting webargs<8.0,>=7.0\n",
      "  Downloading webargs-7.0.1-py2.py3-none-any.whl (30 kB)\n",
      "Collecting appdirs<2.0,>=1.4\n",
      "  Using cached appdirs-1.4.4-py2.py3-none-any.whl (9.6 kB)\n",
      "Collecting idna>=2.0\n",
      "  Downloading idna-3.1-py3-none-any.whl (58 kB)\n",
      "\u001b[K     |████████████████████████████████| 58 kB 12.4 MB/s eta 0:00:01\n",
      "\u001b[?25hCollecting scipy>=1.0\n",
      "  Using cached scipy-1.6.2-cp38-cp38-macosx_10_9_x86_64.whl (30.8 MB)\n",
      "Using legacy 'setup.py install' for fbprophet, since package 'wheel' is not installed.\n",
      "Using legacy 'setup.py install' for pymeeus, since package 'wheel' is not installed.\n",
      "Installing collected packages: multidict, idna, yarl, typing-extensions, marshmallow, chardet, async-timeout, webargs, pytz, pymeeus, pylev, pastel, numpy, lz4, crashtest, appdirs, aiohttp, pysimdjson, pillow, pandas, korean-lunar-calendar, kiwisolver, httpstan, hijri-converter, ephem, cycler, convertdate, clikit, tqdm, setuptools-git, scipy, pystan, matplotlib, LunarCalendar, holidays, Cython, cmdstanpy, seaborn, fbprophet\n",
      "    Running setup.py install for pymeeus ... \u001b[?25ldone\n"
     ]
    }
   ],
   "source": [
    "!pip install pandas numpy matplotlib seaborn"
   ]
  },
  {
   "cell_type": "markdown",
   "id": "a7bc68cd",
   "metadata": {},
   "source": [
    "Installing fbprophet packages..."
   ]
  },
  {
   "cell_type": "code",
   "execution_count": null,
   "id": "4715337b",
   "metadata": {},
   "outputs": [],
   "source": [
    "! pip install pystan==2.19.1.1 fbprophet"
   ]
  },
  {
   "cell_type": "markdown",
   "id": "1bff20f7",
   "metadata": {},
   "source": [
    "Done."
   ]
  },
  {
   "cell_type": "code",
   "execution_count": null,
   "id": "534d67e9",
   "metadata": {},
   "outputs": [],
   "source": []
  }
 ],
 "metadata": {
  "kernelspec": {
   "display_name": "Python 3",
   "language": "python",
   "name": "python3"
  },
  "language_info": {
   "codemirror_mode": {
    "name": "ipython",
    "version": 3
   },
   "file_extension": ".py",
   "mimetype": "text/x-python",
   "name": "python",
   "nbconvert_exporter": "python",
   "pygments_lexer": "ipython3",
   "version": "3.8.6"
  }
 },
 "nbformat": 4,
 "nbformat_minor": 5
}
