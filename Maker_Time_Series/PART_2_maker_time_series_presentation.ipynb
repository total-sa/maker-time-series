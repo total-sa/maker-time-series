{
 "cells": [
  {
   "cell_type": "markdown",
   "metadata": {
    "slideshow": {
     "slide_type": "slide"
    }
   },
   "source": [
    "# Time Series - Maker workshop"
   ]
  },
  {
   "cell_type": "markdown",
   "metadata": {
    "slideshow": {
     "slide_type": "slide"
    }
   },
   "source": [
    "## Quick round table\n",
    "\n",
    "Presentation & expectations?"
   ]
  },
  {
   "cell_type": "markdown",
   "metadata": {},
   "source": [
    "## Definition\n",
    "\n",
    "- **Time series data is data that is collected at different points in time.** This is opposed to cross-sectional data which observes individuals, companies, etc. at a single point in time.\n",
    "\n",
    "\n",
    "- If you previously followed the *Maker workshop dedicated to Machine Learning*, you've already worked with cross-sectional data, but not time series.\n",
    "\n",
    "\n",
    "- Time series can be found in a wide variety of domains: in economics, social sciences, medicine, but also ( and obviously) in physical sciences and engineering. As a result, **we deal with them a lot at Total!**"
   ]
  },
  {
   "cell_type": "markdown",
   "metadata": {
    "slideshow": {
     "slide_type": "slide"
    }
   },
   "source": [
    "## Outline\n",
    "\n",
    "1. Today's challenge\n",
    "2. Today's Data Science environment checklist\n",
    "3. Exploring the data \n",
    "    - Types, indexes and unique values\n",
    "    - Distributions\n",
    "    - Correlations\n",
    "4. Dealing with missing values\n",
    "5. Resampling techniques\n",
    "6. Time series visualization\n",
    "7. Anomalies detection techniques\n",
    "8. Forecasting\n",
    "8. Open discussion / work session"
   ]
  },
  {
   "cell_type": "markdown",
   "metadata": {
    "slideshow": {
     "slide_type": "slide"
    }
   },
   "source": [
    "## Today's Challenge\n",
    "\n",
    "**Predict the air temperature in 2017 based on weather data from 2009 to 2016.**\n",
    "\n",
    "- Features available:\n",
    "    - Air temperature\n",
    "    - Atmospheric pressure\n",
    "    - Humidity\n",
    "    - Wind direction\n",
    "    - Etc."
   ]
  },
  {
   "cell_type": "markdown",
   "metadata": {
    "slideshow": {
     "slide_type": "slide"
    }
   },
   "source": [
    "## Today's Data Science environment checklist\n",
    "\n",
    "- A Jupyter notebook\n",
    "- The data folder (the one that we sent)\n",
    "- The following libraries installed:"
   ]
  },
  {
   "cell_type": "code",
   "execution_count": null,
   "metadata": {
    "slideshow": {
     "slide_type": "-"
    }
   },
   "outputs": [],
   "source": [
    "! make -f ../setup/Makefile"
   ]
  },
  {
   "cell_type": "code",
   "execution_count": null,
   "metadata": {
    "slideshow": {
     "slide_type": "-"
    }
   },
   "outputs": [],
   "source": [
    "import pandas as pd\n",
    "import numpy as np\n",
    "\n",
    "import matplotlib.pyplot as plt\n",
    "import seaborn as sns\n",
    "\n",
    "from fbprophet import Prophet\n",
    "\n",
    "# Optional\n",
    "%config InlineBackend.figure_format = 'retina'"
   ]
  },
  {
   "cell_type": "markdown",
   "metadata": {
    "slideshow": {
     "slide_type": "slide"
    }
   },
   "source": [
    "## Loading the data"
   ]
  },
  {
   "cell_type": "code",
   "execution_count": null,
   "metadata": {
    "scrolled": true
   },
   "outputs": [],
   "source": [
    "raw_data = pd.read_csv('../data/jena_climate_2009_2016_part_2.csv', sep=',')\n",
    "raw_data.head()"
   ]
  },
  {
   "cell_type": "markdown",
   "metadata": {
    "slideshow": {
     "slide_type": "slide"
    }
   },
   "source": [
    "## Dealing with missing values"
   ]
  },
  {
   "cell_type": "markdown",
   "metadata": {
    "slideshow": {
     "slide_type": "subslide"
    }
   },
   "source": [
    "### Identification of missing values\n",
    "\n",
    "_Let's identify missing values in our dataset._\n",
    "\n",
    "Tip: Knowing that our variables are floats, the missing values will appear as `NaN` (= Not A Number)."
   ]
  },
  {
   "cell_type": "code",
   "execution_count": null,
   "metadata": {
    "scrolled": false
   },
   "outputs": [],
   "source": [
    "raw_data.\"CODE HERE\"().\"CODE HERE\"()"
   ]
  },
  {
   "cell_type": "code",
   "execution_count": null,
   "metadata": {
    "slideshow": {
     "slide_type": "subslide"
    }
   },
   "outputs": [],
   "source": [
    "raw_data[raw_data.isna().any(axis=1)]"
   ]
  },
  {
   "cell_type": "markdown",
   "metadata": {
    "slideshow": {
     "slide_type": "slide"
    }
   },
   "source": [
    "## Resampling techniques"
   ]
  },
  {
   "cell_type": "markdown",
   "metadata": {
    "slideshow": {
     "slide_type": "subslide"
    }
   },
   "source": [
    "### Assess the time series delta"
   ]
  },
  {
   "cell_type": "code",
   "execution_count": null,
   "metadata": {},
   "outputs": [],
   "source": [
    "sorted_data = raw_data.copy()\n",
    "sorted_data['Date Time'] = pd.to_datetime(sorted_data['Date Time'], format='%d.%m.%Y %H:%M:%S')\n",
    "sorted_data =  sorted_data.sort_values('Date Time')\n",
    "\n",
    "dt_index_delta = sorted_data['Date Time'].\"CODE HERE\"\n",
    "dt_index_delta.value_counts()"
   ]
  },
  {
   "cell_type": "markdown",
   "metadata": {
    "slideshow": {
     "slide_type": "-"
    }
   },
   "source": [
    "Lucky for us, we have is a nice `resample()` method for pandas dataframes that have a DatetimeIndex."
   ]
  },
  {
   "cell_type": "markdown",
   "metadata": {
    "slideshow": {
     "slide_type": "subslide"
    }
   },
   "source": [
    "### Create a DatetimeIndex"
   ]
  },
  {
   "cell_type": "code",
   "execution_count": null,
   "metadata": {
    "slideshow": {
     "slide_type": "-"
    }
   },
   "outputs": [],
   "source": [
    "reindexed_data = sorted_data.copy()\n",
    "reindexed_data.\"CODE HERE\"('Date Time', inplace=True)"
   ]
  },
  {
   "cell_type": "markdown",
   "metadata": {
    "slideshow": {
     "slide_type": "subslide"
    }
   },
   "source": [
    "In order to better illustrate the concept of resampling, let's create a fake sinusoidal time series."
   ]
  },
  {
   "cell_type": "code",
   "execution_count": null,
   "metadata": {
    "slideshow": {
     "slide_type": "skip"
    }
   },
   "outputs": [],
   "source": [
    "def create_fake_ts(length=10000):\n",
    "    raw_values = np.sin(np.linspace(1, length, length)*2*np.pi/(24*60))\n",
    "    date = pd.date_range(start='2017-01-01', periods=len(raw_values), freq='min')\n",
    "    \n",
    "    sampled = [i for i in range(len(raw_values)//2, len(raw_values), 8*60)]\n",
    "    sampled_date = date[sampled]\n",
    "\n",
    "    raw_less_values = raw_values[sampled]\n",
    "\n",
    "    raw_df = pd.DataFrame(raw_values[:sampled[0]])\n",
    "    raw_df.index = date[:sampled[0]]\n",
    "\n",
    "    raw_less_values_df = pd.DataFrame(raw_less_values)\n",
    "    raw_less_values_df.index = sampled_date\n",
    "\n",
    "    raw_df = raw_df.append(raw_less_values_df)\n",
    "    \n",
    "    raw_df.index.name = 'date'\n",
    "    raw_df.columns = ['values']\n",
    "\n",
    "    return raw_df"
   ]
  },
  {
   "cell_type": "code",
   "execution_count": null,
   "metadata": {
    "slideshow": {
     "slide_type": "-"
    }
   },
   "outputs": [],
   "source": [
    "ts_to_resample = create_fake_ts(length=10000)"
   ]
  },
  {
   "cell_type": "markdown",
   "metadata": {},
   "source": [
    "We can then apply the same analysis of the time differences as in the previous section."
   ]
  },
  {
   "cell_type": "code",
   "execution_count": null,
   "metadata": {
    "slideshow": {
     "slide_type": "-"
    }
   },
   "outputs": [],
   "source": [
    "ts_to_resample.reset_index(inplace=True)\n",
    "\n",
    "ts_to_resample['delta'] = ts_to_resample['date'].diff()\n",
    "\n",
    "ts_to_resample.set_index('date', inplace=True)\n",
    "\n",
    "ts_to_resample.head()"
   ]
  },
  {
   "cell_type": "code",
   "execution_count": null,
   "metadata": {
    "slideshow": {
     "slide_type": "subslide"
    }
   },
   "outputs": [],
   "source": [
    "plt.figure(figsize=(15, 5))\n",
    "\n",
    "plt.scatter(x=ts_to_resample.index, y=ts_to_resample['values'])\n",
    "\n",
    "plt.title('Time series to resample')\n",
    "\n",
    "plt.show()"
   ]
  },
  {
   "cell_type": "code",
   "execution_count": null,
   "metadata": {
    "slideshow": {
     "slide_type": "subslide"
    }
   },
   "outputs": [],
   "source": [
    "plt.figure(figsize=(15, 5))\n",
    "\n",
    "(ts_to_resample['delta'].dt.total_seconds() / (3600 * 24)).plot()\n",
    "\n",
    "plt.title('Differences between timestamps')\n",
    "\n",
    "plt.show()"
   ]
  },
  {
   "cell_type": "markdown",
   "metadata": {},
   "source": [
    "In this example data, starting on 2017-01-04, we no longer receive 1 data point every minute but instead 1 data point every 8h."
   ]
  },
  {
   "cell_type": "markdown",
   "metadata": {
    "slideshow": {
     "slide_type": "subslide"
    }
   },
   "source": [
    "In our case, we have 2 different ways to go to obtain a time series with equally-spaced data points:\n",
    "1. Remove some data points from the first part of the time series in order to get 8h-spaced data points similar to the second part of the time series: this technique is known as **undersampling**.\n",
    "2. Add some data points in the second part of the time series in order to get 1min-spaced data points similar to the first part of the time series: this technique is known as **oversampling**."
   ]
  },
  {
   "cell_type": "markdown",
   "metadata": {
    "slideshow": {
     "slide_type": "subslide"
    }
   },
   "source": [
    "### Oversampling"
   ]
  },
  {
   "cell_type": "markdown",
   "metadata": {
    "slideshow": {
     "slide_type": "-"
    }
   },
   "source": [
    "#### Forward-fill method\n",
    "\n",
    "Even though it depends on the problem at hand, a way to go can be to use the frequency the most represented in order not to add/remove too many data points.\n",
    "\n",
    "When oversampling your time series, i.e. creating new data points, you'll need to make a decision regarding which values to assign to these new points.\n",
    "\n",
    "When resampling time series, a common risk is to introduce **data leakage** by adding data from the future to the past, i.e. data that would not have been available at the time.\n",
    "\n",
    "For example, if you decide to fill a missing data point at time t with the next available values (this is known as **backward filling**), how would you have been able to do that at time t, knowing that these future values were not available at the time?\n",
    "\n",
    "You should always ask yourself this question when manipulating time series, especially when adding data points and creating new features."
   ]
  },
  {
   "cell_type": "markdown",
   "metadata": {
    "slideshow": {
     "slide_type": "subslide"
    }
   },
   "source": [
    "![](../setup/images/ffill.png)"
   ]
  },
  {
   "cell_type": "markdown",
   "metadata": {},
   "source": [
    "As presented on this diagram, you should always use **forward filling** as a resampling method when oversampling. Backward filling would bring in unavailable values from the future and introduce a data leak."
   ]
  },
  {
   "cell_type": "code",
   "execution_count": null,
   "metadata": {
    "slideshow": {
     "slide_type": "subslide"
    }
   },
   "outputs": [],
   "source": [
    "ts_to_resample_min = ts_to_resample['values'].\"CODE HERE\"('T').\"CODE HERE\"()\n",
    "\n",
    "plt.figure(figsize=(15, 5))\n",
    "\n",
    "plt.plot(ts_to_resample_min, color='orange')\n",
    "plt.scatter(x=ts_to_resample.index, y=ts_to_resample['values'])\n",
    "\n",
    "plt.title('Resampling with the forward fill method')\n",
    "\n",
    "plt.show()"
   ]
  },
  {
   "cell_type": "markdown",
   "metadata": {
    "slideshow": {
     "slide_type": "subslide"
    }
   },
   "source": [
    "#### Other methods - Linear"
   ]
  },
  {
   "cell_type": "code",
   "execution_count": null,
   "metadata": {
    "slideshow": {
     "slide_type": "-"
    }
   },
   "outputs": [],
   "source": [
    "ts_to_resample_min = ts_to_resample['values'].\"CODE HERE\"('T').interpolate(method=\"CODE HERE\")\n",
    "\n",
    "plt.figure(figsize=(15, 5))\n",
    "\n",
    "plt.plot(ts_to_resample_min, color='orange')\n",
    "plt.scatter(x=ts_to_resample.index, y=ts_to_resample['values'])\n",
    "\n",
    "plt.title('Resampling with the linear method')\n",
    "\n",
    "plt.show()"
   ]
  },
  {
   "cell_type": "markdown",
   "metadata": {
    "slideshow": {
     "slide_type": "subslide"
    }
   },
   "source": [
    "#### Other methods - Nearest"
   ]
  },
  {
   "cell_type": "code",
   "execution_count": null,
   "metadata": {
    "slideshow": {
     "slide_type": "-"
    }
   },
   "outputs": [],
   "source": [
    "ts_to_resample_min = ts_to_resample['values'].resample('T').interpolate(method='nearest')\n",
    "\n",
    "plt.figure(figsize=(15, 5))\n",
    "\n",
    "plt.plot(ts_to_resample_min, color='orange')\n",
    "plt.scatter(x=ts_to_resample.index, y=ts_to_resample['values'])\n",
    "\n",
    "plt.title('Resampling with the \"nearest\" method')\n",
    "\n",
    "plt.show()"
   ]
  },
  {
   "cell_type": "markdown",
   "metadata": {},
   "source": [
    "As explained earlier, if you look closely at the different graphs, you'll realize that **the forward fill method is the only method presented which doesn't introduce any data leak.**"
   ]
  },
  {
   "cell_type": "markdown",
   "metadata": {
    "slideshow": {
     "slide_type": "subslide"
    }
   },
   "source": [
    "### Mix of undersampling and oversampling"
   ]
  },
  {
   "cell_type": "code",
   "execution_count": null,
   "metadata": {},
   "outputs": [],
   "source": [
    "ts_to_resample_min = ts_to_resample['values'].resample('4H').ffill()\n",
    "\n",
    "plt.figure(figsize=(15, 5))\n",
    "\n",
    "plt.plot(ts_to_resample_min, color='orange')\n",
    "plt.scatter(x=ts_to_resample.index, y=ts_to_resample['values'])\n",
    "\n",
    "plt.show()"
   ]
  },
  {
   "cell_type": "markdown",
   "metadata": {
    "slideshow": {
     "slide_type": "subslide"
    }
   },
   "source": [
    "Now, we know everything we need to resample our data on a 10-min basis."
   ]
  },
  {
   "cell_type": "code",
   "execution_count": null,
   "metadata": {},
   "outputs": [],
   "source": [
    "clean_data = reindexed_data.resample('10min').\"CODE HERE\"()"
   ]
  },
  {
   "cell_type": "markdown",
   "metadata": {
    "slideshow": {
     "slide_type": "slide"
    }
   },
   "source": [
    "## Time series visualization"
   ]
  },
  {
   "cell_type": "markdown",
   "metadata": {
    "slideshow": {
     "slide_type": "subslide"
    }
   },
   "source": [
    "### Global view & analysis"
   ]
  },
  {
   "cell_type": "code",
   "execution_count": null,
   "metadata": {
    "scrolled": false,
    "slideshow": {
     "slide_type": "-"
    }
   },
   "outputs": [],
   "source": [
    "plt.figure(figsize=(20, 7))\n",
    "\n",
    "for col in clean_data.columns:\n",
    "    plt.plot(clean_data[col], label=col)\n",
    "\n",
    "plt.legend(loc='upper right')\n",
    "plt.title('Sensor values')\n",
    "\n",
    "plt.show()"
   ]
  },
  {
   "cell_type": "markdown",
   "metadata": {
    "slideshow": {
     "slide_type": "subslide"
    }
   },
   "source": [
    "### Sensor-level view & analysis"
   ]
  },
  {
   "cell_type": "code",
   "execution_count": null,
   "metadata": {
    "slideshow": {
     "slide_type": "-"
    }
   },
   "outputs": [],
   "source": [
    "for col in clean_data.columns:\n",
    "    \n",
    "    plt.figure(figsize=(20, 7))\n",
    "    plt.plot(clean_data[col])\n",
    "    plt.title(col)\n",
    "    \n",
    "    plt.show()"
   ]
  },
  {
   "cell_type": "code",
   "execution_count": null,
   "metadata": {},
   "outputs": [],
   "source": [
    "clean_data.to_csv('../data/jena_climate_2009_2016_part_3.csv')"
   ]
  },
  {
   "cell_type": "markdown",
   "metadata": {
    "slideshow": {
     "slide_type": "slide"
    }
   },
   "source": [
    "## See you on Part 3 ;)"
   ]
  }
 ],
 "metadata": {
  "celltoolbar": "Slideshow",
  "kernelspec": {
   "display_name": "Python 3",
   "language": "python",
   "name": "python3"
  },
  "language_info": {
   "codemirror_mode": {
    "name": "ipython",
    "version": 3
   },
   "file_extension": ".py",
   "mimetype": "text/x-python",
   "name": "python",
   "nbconvert_exporter": "python",
   "pygments_lexer": "ipython3",
   "version": "3.8.10"
  },
  "toc": {
   "base_numbering": 1,
   "nav_menu": {},
   "number_sections": false,
   "sideBar": true,
   "skip_h1_title": false,
   "title_cell": "Table of Contents",
   "title_sidebar": "Contents",
   "toc_cell": false,
   "toc_position": {
    "height": "calc(100% - 180px)",
    "left": "10px",
    "top": "150px",
    "width": "336px"
   },
   "toc_section_display": true,
   "toc_window_display": true
  }
 },
 "nbformat": 4,
 "nbformat_minor": 2
}
